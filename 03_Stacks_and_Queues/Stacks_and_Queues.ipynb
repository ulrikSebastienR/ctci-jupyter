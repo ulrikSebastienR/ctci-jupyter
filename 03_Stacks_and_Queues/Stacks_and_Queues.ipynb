{
 "cells": [
  {
   "cell_type": "markdown",
   "metadata": {},
   "source": [
    "# Stacks and Queues"
   ]
  },
  {
   "cell_type": "markdown",
   "metadata": {},
   "source": [
    "## Questions"
   ]
  },
  {
   "cell_type": "markdown",
   "metadata": {},
   "source": [
    "### 3.1 Three in One\n",
    "_Describe how you could use a single array to implement three stacks._"
   ]
  },
  {
   "cell_type": "markdown",
   "metadata": {},
   "source": [
    "The first and second stacks can start from the first and second index of the array, respectively.  The third stack can start at index `len(array)/2` and grow in either direction.  When a push to any array would cause a collision with the third array, shift the third array one element to the left or right, depending on the direction of the collision."
   ]
  },
  {
   "cell_type": "markdown",
   "metadata": {},
   "source": [
    "### 3.2 Stack Min\n",
    "_How would you design a stack which, in addition to `push` and `pop` has a function `min` which returns the minimum element. `push`, `pop`, and `min` should all operate in O(1) time._"
   ]
  },
  {
   "cell_type": "code",
   "execution_count": 150,
   "metadata": {},
   "outputs": [],
   "source": [
    "# First I'll implement a Stack and StackNode that is linked to its next StackNode\n",
    "\n",
    "\n",
    "class StackNode:\n",
    "    \"\"\"\n",
    "    data container\n",
    "    \"\"\"\n",
    "    def __init__(self, data):\n",
    "        self.data = data\n",
    "        self.next = None\n",
    "        \n",
    "        \n",
    "class Stack:\n",
    "    \"\"\"\n",
    "    basic stack implementation\n",
    "    \"\"\"\n",
    "    def __init__(self):\n",
    "        self.top_node = None\n",
    "        self.min_value = None\n",
    "    \n",
    "    def pop(self):\n",
    "        if not self.top_node:\n",
    "            print('stack is empty.')\n",
    "            return\n",
    "        item = self.top_node.data\n",
    "        self.top_node = self.top_node.next\n",
    "        return item\n",
    "    \n",
    "    def push(self, item):\n",
    "        node = StackNode(item)\n",
    "        node.next = self.top_node\n",
    "        self.top_node = node\n",
    "        \n",
    "    \n",
    "    def peek(self):\n",
    "        if not self.top_node:\n",
    "            print('stack is empty')\n",
    "            return\n",
    "        return self.top_node.data\n",
    "    \n",
    "    def is_empty(self):\n",
    "        return not self.top_node        "
   ]
  },
  {
   "cell_type": "markdown",
   "metadata": {},
   "source": [
    "Implementing `get_min` function and making callable by `Stack` class"
   ]
  },
  {
   "cell_type": "code",
   "execution_count": 157,
   "metadata": {},
   "outputs": [],
   "source": [
    "def get_min(self):\n",
    "    if self.is_empty():\n",
    "        print('stack is empty')\n",
    "\n",
    "    min_value = self.top_node.data\n",
    "\n",
    "    while not self.is_empty():\n",
    "        if self.top_node.data < min_value:\n",
    "            min_value = self.top_node.data\n",
    "        self.pop()\n",
    "\n",
    "    return min_value\n",
    "\n",
    "Stack.get_min = get_min"
   ]
  },
  {
   "cell_type": "code",
   "execution_count": 159,
   "metadata": {},
   "outputs": [],
   "source": [
    "stack = Stack()\n",
    "\n",
    "stack.push(3)\n",
    "stack.push(-8)\n",
    "stack.push(8)\n",
    "stack.push(0)\n",
    "stack.push(-1)\n",
    "stack.push(5)"
   ]
  },
  {
   "cell_type": "code",
   "execution_count": 160,
   "metadata": {},
   "outputs": [
    {
     "data": {
      "text/plain": [
       "-8"
      ]
     },
     "execution_count": 160,
     "metadata": {},
     "output_type": "execute_result"
    }
   ],
   "source": [
    "stack.get_min()"
   ]
  }
 ],
 "metadata": {
  "kernelspec": {
   "display_name": "Python 3",
   "language": "python",
   "name": "python3"
  },
  "language_info": {
   "codemirror_mode": {
    "name": "ipython",
    "version": 3
   },
   "file_extension": ".py",
   "mimetype": "text/x-python",
   "name": "python",
   "nbconvert_exporter": "python",
   "pygments_lexer": "ipython3",
   "version": "3.7.4"
  }
 },
 "nbformat": 4,
 "nbformat_minor": 2
}
