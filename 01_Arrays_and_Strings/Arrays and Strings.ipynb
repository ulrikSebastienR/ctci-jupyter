{
 "cells": [
  {
   "cell_type": "code",
   "execution_count": 11,
   "metadata": {
    "collapsed": true
   },
   "outputs": [],
   "source": [
    "import unittest"
   ]
  },
  {
   "cell_type": "markdown",
   "metadata": {},
   "source": [
    "### Arrays and Strings\n",
    "\n",
    "#### Questions"
   ]
  },
  {
   "cell_type": "markdown",
   "metadata": {},
   "source": [
    "__1.1: Is Unique__\n",
    "\n",
    "Implement an algorithm to determine if a string has all unique characters.\n",
    "\n",
    "What if you cannot use additional data structures?"
   ]
  },
  {
   "cell_type": "code",
   "execution_count": 36,
   "metadata": {
    "collapsed": true
   },
   "outputs": [],
   "source": [
    "# my approach would be to use a dictionary to store a new key each\n",
    "# time a new char is identified while looping through the string.\n",
    "# as soon as a dup key is found, return false, otherwise return true.\n",
    "# should also check if len(s) > 128 assuming ascii -> can return false\n",
    "\n",
    "def has_all_unique(s):\n",
    "    if len(s) > 128:\n",
    "        return False\n",
    "    c_dict = dict()\n",
    "    for c in s:\n",
    "        if c not in c_dict:\n",
    "            c_dict[c] = None\n",
    "        else:\n",
    "            return False\n",
    "    return True"
   ]
  },
  {
   "cell_type": "code",
   "execution_count": 37,
   "metadata": {},
   "outputs": [
    {
     "data": {
      "text/plain": [
       "True"
      ]
     },
     "execution_count": 37,
     "metadata": {},
     "output_type": "execute_result"
    }
   ],
   "source": [
    "has_all_unique('lumberjack')"
   ]
  },
  {
   "cell_type": "code",
   "execution_count": 38,
   "metadata": {},
   "outputs": [
    {
     "data": {
      "text/plain": [
       "False"
      ]
     },
     "execution_count": 38,
     "metadata": {},
     "output_type": "execute_result"
    }
   ],
   "source": [
    "has_all_unique('ladder')"
   ]
  },
  {
   "cell_type": "code",
   "execution_count": 41,
   "metadata": {
    "collapsed": true
   },
   "outputs": [],
   "source": [
    "# if we can't use additional data structures (?), then I might use\n",
    "# python built-in set method (which presumably uses underlying data structure, \n",
    "# anyway?). In the worst case, we could compare every char to every other char\n",
    "# in the string, which would be a very inefficient solution, taking quadratic time\n",
    "\n",
    "def has_all_unique_no_dict(s):\n",
    "    if len(s) > 128:\n",
    "        return False\n",
    "    return True if len(set(s)) is len(s) else False "
   ]
  },
  {
   "cell_type": "code",
   "execution_count": 42,
   "metadata": {},
   "outputs": [
    {
     "data": {
      "text/plain": [
       "True"
      ]
     },
     "execution_count": 42,
     "metadata": {},
     "output_type": "execute_result"
    }
   ],
   "source": [
    "has_all_unique_no_dict('lumberjack')"
   ]
  },
  {
   "cell_type": "code",
   "execution_count": 43,
   "metadata": {},
   "outputs": [
    {
     "data": {
      "text/plain": [
       "False"
      ]
     },
     "execution_count": 43,
     "metadata": {},
     "output_type": "execute_result"
    }
   ],
   "source": [
    "has_all_unique_no_dict('ladder')"
   ]
  },
  {
   "cell_type": "markdown",
   "metadata": {},
   "source": [
    "__1.2: Check Permutation__\n",
    "\n",
    "Given two strings, write a method to decide if one is a permutation of the other."
   ]
  },
  {
   "cell_type": "code",
   "execution_count": 50,
   "metadata": {},
   "outputs": [],
   "source": [
    "# first we can check if string lengths are equal, if not, return false\n",
    "# if true, sort the strings and assert equivalence\n",
    "\n",
    "def is_permutation(s1, s2):\n",
    "    if len(s1) != len(s2):\n",
    "        return False\n",
    "    else:\n",
    "        s1_s = sorted(s1)\n",
    "        s2_s = sorted(s2)\n",
    "    return s1_s == s2_s"
   ]
  },
  {
   "cell_type": "code",
   "execution_count": 51,
   "metadata": {},
   "outputs": [
    {
     "data": {
      "text/plain": [
       "True"
      ]
     },
     "execution_count": 51,
     "metadata": {},
     "output_type": "execute_result"
    }
   ],
   "source": [
    "is_permutation('salt', 'last')"
   ]
  },
  {
   "cell_type": "code",
   "execution_count": 53,
   "metadata": {},
   "outputs": [
    {
     "data": {
      "text/plain": [
       "False"
      ]
     },
     "execution_count": 53,
     "metadata": {},
     "output_type": "execute_result"
    }
   ],
   "source": [
    "is_permutation('foo', 'bar')"
   ]
  },
  {
   "cell_type": "markdown",
   "metadata": {},
   "source": [
    "__1.3: URLify__\n",
    "\n",
    "Write a method to replace all spaces in a string with `'%20'` given the true string length"
   ]
  },
  {
   "cell_type": "code",
   "execution_count": 60,
   "metadata": {
    "collapsed": true
   },
   "outputs": [],
   "source": [
    "# my approach would be to reconstruct a string by setting\n",
    "# all spaces to `%20` else original character up to the true\n",
    "# length of the string, which is provided as the second param\n",
    "def urlify(s, true_length):\n",
    "    return ''.join('%20' if c == ' ' else c for c in s[:true_length])"
   ]
  },
  {
   "cell_type": "code",
   "execution_count": 62,
   "metadata": {},
   "outputs": [
    {
     "data": {
      "text/plain": [
       "'mr%20john%20smith'"
      ]
     },
     "execution_count": 62,
     "metadata": {},
     "output_type": "execute_result"
    }
   ],
   "source": [
    "urlify('mr john smith    ', 13)"
   ]
  },
  {
   "cell_type": "markdown",
   "metadata": {},
   "source": [
    "__1.4: Palindrom Permutation__\n",
    "\n",
    "Write a function to check if a string is a permutation of a palindrome"
   ]
  },
  {
   "cell_type": "code",
   "execution_count": 70,
   "metadata": {},
   "outputs": [],
   "source": [
    "# my approach would be to check that at maximum one char in a string\n",
    "# has an odd frequency. I would use a dictionary to track this for all\n",
    "# chars in the string where dict is {char, isOddFreq}. I would then\n",
    "# create a list to store the isOdd and isEven count using the dictionary.\n",
    "# if isOdd > 1, return False, else True\n",
    "\n",
    "def is_pal_perm(s):\n",
    "    d_chars = dict()\n",
    "    for c in s:\n",
    "        if c not in d_chars:\n",
    "            d_chars[c] = True # store True for IsOdd\n",
    "        else:\n",
    "            d_chars[c] = not d_chars[c] # flip Boolean\n",
    "    \n",
    "    polarity = [0, 0] # where polarity[0] -> isOdd, polarity[1] -> isE\n",
    "    \n",
    "    for k, v in d_chars.items():\n",
    "        if v is True:\n",
    "            d_polarity_ct['isOdd'] += 1\n",
    "        else:\n",
    "            d_polarity_ct['isEven'] += 1\n",
    "            \n",
    "    if d_polarity_ct['isOdd'] > 1:\n",
    "        return False\n",
    "    return True        "
   ]
  },
  {
   "cell_type": "code",
   "execution_count": 71,
   "metadata": {},
   "outputs": [
    {
     "data": {
      "text/plain": [
       "False"
      ]
     },
     "execution_count": 71,
     "metadata": {},
     "output_type": "execute_result"
    }
   ],
   "source": [
    "is_pal_perm('ehll')"
   ]
  },
  {
   "cell_type": "code",
   "execution_count": 72,
   "metadata": {},
   "outputs": [
    {
     "data": {
      "text/plain": [
       "True"
      ]
     },
     "execution_count": 72,
     "metadata": {},
     "output_type": "execute_result"
    }
   ],
   "source": [
    "is_pal_perm('eeoo')"
   ]
  },
  {
   "cell_type": "code",
   "execution_count": 73,
   "metadata": {},
   "outputs": [
    {
     "data": {
      "text/plain": [
       "True"
      ]
     },
     "execution_count": 73,
     "metadata": {},
     "output_type": "execute_result"
    }
   ],
   "source": [
    "is_pal_perm('carrace')"
   ]
  },
  {
   "cell_type": "code",
   "execution_count": 74,
   "metadata": {},
   "outputs": [
    {
     "data": {
      "text/plain": [
       "True"
      ]
     },
     "execution_count": 74,
     "metadata": {},
     "output_type": "execute_result"
    }
   ],
   "source": [
    "is_pal_perm('ooddoow')"
   ]
  },
  {
   "cell_type": "code",
   "execution_count": 76,
   "metadata": {},
   "outputs": [
    {
     "data": {
      "text/plain": [
       "False"
      ]
     },
     "execution_count": 76,
     "metadata": {},
     "output_type": "execute_result"
    }
   ],
   "source": [
    "is_pal_perm('ooddoows')"
   ]
  }
 ],
 "metadata": {
  "kernelspec": {
   "display_name": "Python 3",
   "language": "python",
   "name": "python3"
  },
  "language_info": {
   "codemirror_mode": {
    "name": "ipython",
    "version": 3
   },
   "file_extension": ".py",
   "mimetype": "text/x-python",
   "name": "python",
   "nbconvert_exporter": "python",
   "pygments_lexer": "ipython3",
   "version": "3.6.3"
  }
 },
 "nbformat": 4,
 "nbformat_minor": 2
}
