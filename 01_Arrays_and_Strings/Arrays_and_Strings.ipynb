{
 "cells": [
  {
   "cell_type": "markdown",
   "metadata": {},
   "source": [
    "_note: all notebooks will be transferred to python modules with tests when complete. _"
   ]
  },
  {
   "cell_type": "markdown",
   "metadata": {},
   "source": [
    "### Arrays and Strings\n",
    "\n",
    "#### Questions"
   ]
  },
  {
   "cell_type": "markdown",
   "metadata": {},
   "source": [
    "__1.1: Is Unique__\n",
    "\n",
    "Implement an algorithm to determine if a string has all unique characters.\n",
    "\n",
    "What if you cannot use additional data structures?"
   ]
  },
  {
   "cell_type": "code",
   "execution_count": 1,
   "metadata": {
    "collapsed": true
   },
   "outputs": [],
   "source": [
    "# my approach would be to use a dictionary to store a new key each\n",
    "# time a new char is identified while looping through the string.\n",
    "# as soon as a dup key is found, return false, otherwise return true.\n",
    "# should also check if len(s) > 128 assuming ascii -> can return false\n",
    "\n",
    "def has_all_unique(s):\n",
    "    if len(s) > 128:\n",
    "        return False\n",
    "    c_dict = dict()\n",
    "    for c in s:\n",
    "        if c not in c_dict:\n",
    "            c_dict[c] = None\n",
    "        else:\n",
    "            return False\n",
    "    return True"
   ]
  },
  {
   "cell_type": "code",
   "execution_count": 2,
   "metadata": {},
   "outputs": [
    {
     "data": {
      "text/plain": [
       "True"
      ]
     },
     "execution_count": 2,
     "metadata": {},
     "output_type": "execute_result"
    }
   ],
   "source": [
    "has_all_unique('lumberjack')"
   ]
  },
  {
   "cell_type": "code",
   "execution_count": 3,
   "metadata": {},
   "outputs": [
    {
     "data": {
      "text/plain": [
       "False"
      ]
     },
     "execution_count": 3,
     "metadata": {},
     "output_type": "execute_result"
    }
   ],
   "source": [
    "has_all_unique('ladder')"
   ]
  },
  {
   "cell_type": "code",
   "execution_count": 4,
   "metadata": {
    "collapsed": true
   },
   "outputs": [],
   "source": [
    "# if we can't use additional data structures (?), then I might use\n",
    "# python built-in set method (which presumably uses underlying data structure, \n",
    "# anyway?). In the worst case, we could compare every char to every other char\n",
    "# in the string, which would be a very inefficient solution, taking quadratic time\n",
    "\n",
    "def has_all_unique_no_dict(s):\n",
    "    if len(s) > 128:\n",
    "        return False\n",
    "    return True if len(set(s)) is len(s) else False "
   ]
  },
  {
   "cell_type": "code",
   "execution_count": 5,
   "metadata": {},
   "outputs": [
    {
     "data": {
      "text/plain": [
       "True"
      ]
     },
     "execution_count": 5,
     "metadata": {},
     "output_type": "execute_result"
    }
   ],
   "source": [
    "has_all_unique_no_dict('lumberjack')"
   ]
  },
  {
   "cell_type": "code",
   "execution_count": 6,
   "metadata": {},
   "outputs": [
    {
     "data": {
      "text/plain": [
       "False"
      ]
     },
     "execution_count": 6,
     "metadata": {},
     "output_type": "execute_result"
    }
   ],
   "source": [
    "has_all_unique_no_dict('ladder')"
   ]
  },
  {
   "cell_type": "markdown",
   "metadata": {},
   "source": [
    "__1.2: Check Permutation__\n",
    "\n",
    "Given two strings, write a method to decide if one is a permutation of the other."
   ]
  },
  {
   "cell_type": "code",
   "execution_count": 7,
   "metadata": {
    "collapsed": true
   },
   "outputs": [],
   "source": [
    "# first we can check if string lengths are equal, if not, return false\n",
    "# if true, sort the strings and assert equivalence\n",
    "\n",
    "def is_permutation(s1, s2):\n",
    "    if len(s1) != len(s2):\n",
    "        return False\n",
    "    else:\n",
    "        s1_s = sorted(s1)\n",
    "        s2_s = sorted(s2)\n",
    "    return s1_s == s2_s"
   ]
  },
  {
   "cell_type": "code",
   "execution_count": 8,
   "metadata": {},
   "outputs": [
    {
     "data": {
      "text/plain": [
       "True"
      ]
     },
     "execution_count": 8,
     "metadata": {},
     "output_type": "execute_result"
    }
   ],
   "source": [
    "is_permutation('salt', 'last')"
   ]
  },
  {
   "cell_type": "code",
   "execution_count": 9,
   "metadata": {},
   "outputs": [
    {
     "data": {
      "text/plain": [
       "False"
      ]
     },
     "execution_count": 9,
     "metadata": {},
     "output_type": "execute_result"
    }
   ],
   "source": [
    "is_permutation('foo', 'bar')"
   ]
  },
  {
   "cell_type": "markdown",
   "metadata": {},
   "source": [
    "__1.3: URLify__\n",
    "\n",
    "Write a method to replace all spaces in a string with `'%20'` given the true string length"
   ]
  },
  {
   "cell_type": "code",
   "execution_count": 10,
   "metadata": {
    "collapsed": true
   },
   "outputs": [],
   "source": [
    "# my approach would be to reconstruct a string by setting\n",
    "# all spaces to `%20` else original character up to the true\n",
    "# length of the string, which is provided as the second param\n",
    "def urlify(s, true_length):\n",
    "    return ''.join('%20' if c == ' ' else c for c in s[:true_length])"
   ]
  },
  {
   "cell_type": "code",
   "execution_count": 11,
   "metadata": {},
   "outputs": [
    {
     "data": {
      "text/plain": [
       "'mr%20john%20smith'"
      ]
     },
     "execution_count": 11,
     "metadata": {},
     "output_type": "execute_result"
    }
   ],
   "source": [
    "urlify('mr john smith    ', 13)"
   ]
  },
  {
   "cell_type": "markdown",
   "metadata": {},
   "source": [
    "__1.4: Palindrome Permutation__\n",
    "\n",
    "Write a function to check if a string is a permutation of a palindrome"
   ]
  },
  {
   "cell_type": "code",
   "execution_count": 12,
   "metadata": {
    "collapsed": true
   },
   "outputs": [],
   "source": [
    "# my approach would be to check that at maximum one char in a string\n",
    "# has an odd frequency. I would use a dictionary to track this for all\n",
    "# chars in the string where dict is {char, isOddFreq}. I would then\n",
    "# create a list to store the isOdd and isEven count using the dictionary.\n",
    "# if isOdd > 1, return False, else True\n",
    "\n",
    "def is_pal_perm(s):\n",
    "    d_chars = dict()\n",
    "    for c in s:\n",
    "        if c not in d_chars:\n",
    "            d_chars[c] = True # store True for IsOdd\n",
    "        else:\n",
    "            d_chars[c] = not d_chars[c] # flip Boolean\n",
    "    \n",
    "    polarity = [0, 0] # where polarity[0] -> isOdd, polarity[1] -> isEven\n",
    "    \n",
    "    for k, v in d_chars.items():\n",
    "        if v is True:\n",
    "            polarity[0] += 1\n",
    "        else:\n",
    "            polarity[1] += 1\n",
    "            \n",
    "    if polarity[0] > 1:\n",
    "        return False\n",
    "    return True        "
   ]
  },
  {
   "cell_type": "code",
   "execution_count": 13,
   "metadata": {},
   "outputs": [
    {
     "data": {
      "text/plain": [
       "False"
      ]
     },
     "execution_count": 13,
     "metadata": {},
     "output_type": "execute_result"
    }
   ],
   "source": [
    "is_pal_perm('ehll')"
   ]
  },
  {
   "cell_type": "code",
   "execution_count": 14,
   "metadata": {},
   "outputs": [
    {
     "data": {
      "text/plain": [
       "True"
      ]
     },
     "execution_count": 14,
     "metadata": {},
     "output_type": "execute_result"
    }
   ],
   "source": [
    "is_pal_perm('eeoo')"
   ]
  },
  {
   "cell_type": "code",
   "execution_count": 15,
   "metadata": {},
   "outputs": [
    {
     "data": {
      "text/plain": [
       "False"
      ]
     },
     "execution_count": 15,
     "metadata": {},
     "output_type": "execute_result"
    }
   ],
   "source": [
    "is_pal_perm('eeoofa')"
   ]
  },
  {
   "cell_type": "code",
   "execution_count": 16,
   "metadata": {},
   "outputs": [
    {
     "data": {
      "text/plain": [
       "True"
      ]
     },
     "execution_count": 16,
     "metadata": {},
     "output_type": "execute_result"
    }
   ],
   "source": [
    "is_pal_perm('carrace')"
   ]
  },
  {
   "cell_type": "code",
   "execution_count": 17,
   "metadata": {},
   "outputs": [
    {
     "data": {
      "text/plain": [
       "True"
      ]
     },
     "execution_count": 17,
     "metadata": {},
     "output_type": "execute_result"
    }
   ],
   "source": [
    "is_pal_perm('ooddoow')"
   ]
  },
  {
   "cell_type": "code",
   "execution_count": 18,
   "metadata": {},
   "outputs": [
    {
     "data": {
      "text/plain": [
       "False"
      ]
     },
     "execution_count": 18,
     "metadata": {},
     "output_type": "execute_result"
    }
   ],
   "source": [
    "is_pal_perm('ooddoows')"
   ]
  },
  {
   "cell_type": "markdown",
   "metadata": {},
   "source": [
    "__1.5: One Away__\n",
    "\n",
    "Write a function to check if two strings are less than 2 edits away"
   ]
  },
  {
   "cell_type": "code",
   "execution_count": 19,
   "metadata": {
    "collapsed": true
   },
   "outputs": [],
   "source": [
    "# My approach would be to first check for string equivalence -> return true.\n",
    "# For replacements, strings are different in only one place.\n",
    "# for insertion and removal, strings are the same except one str has one fewer char.\n",
    "# we can therefore look at the length of the string to determine which edit type should be checked\n",
    "# for replacements, check lengths are same, then loop through \n",
    "# each index and ensure that no more than one char is different\n",
    "# for inserts, check whether length differs by 1 and then whether s1 in s2 or vice-versa"
   ]
  },
  {
   "cell_type": "code",
   "execution_count": 20,
   "metadata": {
    "collapsed": true
   },
   "outputs": [],
   "source": [
    "def is_one_edit(s1, s2):\n",
    "    if len(s1) == len(s2):\n",
    "        return is_one_replace(s1, s2)\n",
    "    elif abs(len(s1) - len(s2)) == 1:\n",
    "        return is_one_insert(s1, s2)\n",
    "    else:\n",
    "        return False\n",
    "\n",
    "def is_one_replace(s1, s2):\n",
    "    repl_count = 0\n",
    "    \n",
    "    for i in range(len(s1)):\n",
    "        if s1[i] != s2[i]:\n",
    "            repl_count += 1\n",
    "            if repl_count > 1:\n",
    "                return False\n",
    "    # note identical str are also ed 1\n",
    "    return True \n",
    "\n",
    "def is_one_insert(s1, s2):\n",
    "    if (s1 in s2) or (s2 in s1):\n",
    "        return True\n",
    "    else: return False"
   ]
  },
  {
   "cell_type": "code",
   "execution_count": 21,
   "metadata": {},
   "outputs": [
    {
     "data": {
      "text/plain": [
       "True"
      ]
     },
     "execution_count": 21,
     "metadata": {},
     "output_type": "execute_result"
    }
   ],
   "source": [
    "is_one_edit('pool', 'poll')"
   ]
  },
  {
   "cell_type": "code",
   "execution_count": 22,
   "metadata": {},
   "outputs": [
    {
     "data": {
      "text/plain": [
       "False"
      ]
     },
     "execution_count": 22,
     "metadata": {},
     "output_type": "execute_result"
    }
   ],
   "source": [
    "is_one_edit('hello', 'world')"
   ]
  },
  {
   "cell_type": "code",
   "execution_count": 23,
   "metadata": {},
   "outputs": [
    {
     "data": {
      "text/plain": [
       "True"
      ]
     },
     "execution_count": 23,
     "metadata": {},
     "output_type": "execute_result"
    }
   ],
   "source": [
    "is_one_edit('solution', 'solutions')"
   ]
  },
  {
   "cell_type": "code",
   "execution_count": 24,
   "metadata": {},
   "outputs": [
    {
     "data": {
      "text/plain": [
       "True"
      ]
     },
     "execution_count": 24,
     "metadata": {},
     "output_type": "execute_result"
    }
   ],
   "source": [
    "is_one_edit('', '')"
   ]
  },
  {
   "cell_type": "code",
   "execution_count": 25,
   "metadata": {},
   "outputs": [
    {
     "data": {
      "text/plain": [
       "True"
      ]
     },
     "execution_count": 25,
     "metadata": {},
     "output_type": "execute_result"
    }
   ],
   "source": [
    "is_one_edit('a', 'a')"
   ]
  },
  {
   "cell_type": "markdown",
   "metadata": {},
   "source": [
    "__1.6: String Compression__\n",
    "\n",
    "Write a method to perform string compression using count of repeated chars.\n",
    "\n",
    "ie: `aabcccccaaa` -> `a2b1c5a3`"
   ]
  },
  {
   "cell_type": "code",
   "execution_count": 26,
   "metadata": {
    "collapsed": true
   },
   "outputs": [],
   "source": [
    "# My approach would be to iterate through input string\n",
    "# to construct a result str using a counter and the original\n",
    "# char at that index"
   ]
  },
  {
   "cell_type": "code",
   "execution_count": 27,
   "metadata": {
    "collapsed": true
   },
   "outputs": [],
   "source": [
    "def compress_str(s):\n",
    "    res = ''\n",
    "    count = 0\n",
    "    for i in range(len(s)):\n",
    "        count += 1        \n",
    "        if i+1 >= len(s) or s[i] != s[i+1]:\n",
    "            res += \"\" + s[i] + str(count)\n",
    "            count = 0\n",
    "    return res"
   ]
  },
  {
   "cell_type": "code",
   "execution_count": 28,
   "metadata": {},
   "outputs": [
    {
     "data": {
      "text/plain": [
       "'a3b4c1'"
      ]
     },
     "execution_count": 28,
     "metadata": {},
     "output_type": "execute_result"
    }
   ],
   "source": [
    "compress_str('aaabbbbc')"
   ]
  },
  {
   "cell_type": "code",
   "execution_count": 29,
   "metadata": {},
   "outputs": [
    {
     "data": {
      "text/plain": [
       "'l1d1k1j2'"
      ]
     },
     "execution_count": 29,
     "metadata": {},
     "output_type": "execute_result"
    }
   ],
   "source": [
    "compress_str('ldkjj')"
   ]
  },
  {
   "cell_type": "code",
   "execution_count": 30,
   "metadata": {},
   "outputs": [
    {
     "data": {
      "text/plain": [
       "''"
      ]
     },
     "execution_count": 30,
     "metadata": {},
     "output_type": "execute_result"
    }
   ],
   "source": [
    "compress_str('')"
   ]
  },
  {
   "cell_type": "markdown",
   "metadata": {},
   "source": [
    "__1.7: Rotate Matrix__\n",
    "\n",
    "Given an image represented by an NxN matrix, where each pixel in the image is 4 bytes, write a method to rotate the image by 90 degrees. Can you do this in place?"
   ]
  },
  {
   "cell_type": "code",
   "execution_count": 31,
   "metadata": {},
   "outputs": [],
   "source": [
    "# my approach will be to rotate in layers.  To do this in place, \n",
    "# I'll swap sections one at a time rather than copy to a new matrix.\n",
    "# Rotate from outside inward.\n",
    "\n",
    "\"\"\"\n",
    "\n",
    "[l][t][t][t]\n",
    "[l][ ][ ][r]\n",
    "[l][ ][ ][r]\n",
    "[b][b][b][r]\n",
    "\n",
    "\"\"\"\n",
    "def rotate_sq_matrix(m):\n",
    "    if len(m) == 0 or len(m) != len(m[0]):\n",
    "        raise Exception('Invalid or non-square matrix dimensions')\n",
    "    n = len(m)\n",
    "    layer = 0\n",
    "    for layer in range(0, n//2):\n",
    "        first = layer\n",
    "        last = n - 1 - layer\n",
    "        for i in range(first, last):\n",
    "            offset = i - first\n",
    "            top = m[first][i]\n",
    "            m[first][i] = m[last-offset][first]\n",
    "            m[last-offset][first] = m[last][last-offset]\n",
    "            m[last][last-offset] = m[i][last]\n",
    "            m[i][last] = top\n",
    "            \n",
    "def print_matrix(m):\n",
    "    for layer in m:\n",
    "        print(layer)"
   ]
  },
  {
   "cell_type": "code",
   "execution_count": 32,
   "metadata": {
    "collapsed": true
   },
   "outputs": [],
   "source": [
    "m = [[0,1,2],\n",
    "     [3,4,5],\n",
    "     [6,7,8]]"
   ]
  },
  {
   "cell_type": "code",
   "execution_count": 33,
   "metadata": {},
   "outputs": [
    {
     "name": "stdout",
     "output_type": "stream",
     "text": [
      "[0, 1, 2]\n",
      "[3, 4, 5]\n",
      "[6, 7, 8]\n"
     ]
    }
   ],
   "source": [
    "print_matrix(m)"
   ]
  },
  {
   "cell_type": "code",
   "execution_count": 34,
   "metadata": {},
   "outputs": [
    {
     "name": "stdout",
     "output_type": "stream",
     "text": [
      "[6, 3, 0]\n",
      "[7, 4, 1]\n",
      "[8, 5, 2]\n"
     ]
    }
   ],
   "source": [
    "rotate_sq_matrix(m)\n",
    "print_matrix(m)"
   ]
  },
  {
   "cell_type": "code",
   "execution_count": 35,
   "metadata": {},
   "outputs": [
    {
     "name": "stdout",
     "output_type": "stream",
     "text": [
      "[8, 7, 6]\n",
      "[5, 4, 3]\n",
      "[2, 1, 0]\n"
     ]
    }
   ],
   "source": [
    "rotate_sq_matrix(m)\n",
    "print_matrix(m)"
   ]
  },
  {
   "cell_type": "code",
   "execution_count": 36,
   "metadata": {},
   "outputs": [
    {
     "name": "stdout",
     "output_type": "stream",
     "text": [
      "[2, 5, 8]\n",
      "[1, 4, 7]\n",
      "[0, 3, 6]\n"
     ]
    }
   ],
   "source": [
    "rotate_sq_matrix(m)\n",
    "print_matrix(m)"
   ]
  },
  {
   "cell_type": "code",
   "execution_count": 37,
   "metadata": {},
   "outputs": [
    {
     "name": "stdout",
     "output_type": "stream",
     "text": [
      "[0, 1, 2]\n",
      "[3, 4, 5]\n",
      "[6, 7, 8]\n"
     ]
    }
   ],
   "source": [
    "rotate_sq_matrix(m)\n",
    "print_matrix(m)"
   ]
  },
  {
   "cell_type": "code",
   "execution_count": 38,
   "metadata": {},
   "outputs": [],
   "source": [
    "n = [[0,1,2,3],\n",
    "     [4,5,6,7],\n",
    "     [8,9,10,11],\n",
    "     [12,13,14,15]\n",
    "    ]"
   ]
  },
  {
   "cell_type": "code",
   "execution_count": 39,
   "metadata": {},
   "outputs": [
    {
     "name": "stdout",
     "output_type": "stream",
     "text": [
      "[12, 8, 4, 0]\n",
      "[13, 9, 5, 1]\n",
      "[14, 10, 6, 2]\n",
      "[15, 11, 7, 3]\n"
     ]
    }
   ],
   "source": [
    "rotate_sq_matrix(n)\n",
    "print_matrix(n)"
   ]
  },
  {
   "cell_type": "code",
   "execution_count": 40,
   "metadata": {
    "collapsed": true
   },
   "outputs": [],
   "source": [
    "sm = [[1,2],[3,4]]"
   ]
  },
  {
   "cell_type": "code",
   "execution_count": 41,
   "metadata": {},
   "outputs": [
    {
     "name": "stdout",
     "output_type": "stream",
     "text": [
      "[1, 2]\n",
      "[3, 4]\n"
     ]
    }
   ],
   "source": [
    "print_matrix(sm)"
   ]
  },
  {
   "cell_type": "code",
   "execution_count": 42,
   "metadata": {},
   "outputs": [
    {
     "name": "stdout",
     "output_type": "stream",
     "text": [
      "[3, 1]\n",
      "[4, 2]\n"
     ]
    }
   ],
   "source": [
    "rotate_sq_matrix(sm)\n",
    "print_matrix(sm)"
   ]
  },
  {
   "cell_type": "code",
   "execution_count": null,
   "metadata": {
    "collapsed": true
   },
   "outputs": [],
   "source": []
  }
 ],
 "metadata": {
  "kernelspec": {
   "display_name": "Python 3",
   "language": "python",
   "name": "python3"
  },
  "language_info": {
   "codemirror_mode": {
    "name": "ipython",
    "version": 3
   },
   "file_extension": ".py",
   "mimetype": "text/x-python",
   "name": "python",
   "nbconvert_exporter": "python",
   "pygments_lexer": "ipython3",
   "version": "3.6.3"
  }
 },
 "nbformat": 4,
 "nbformat_minor": 2
}
