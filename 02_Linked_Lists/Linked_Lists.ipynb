{
 "cells": [
  {
   "cell_type": "markdown",
   "metadata": {},
   "source": [
    "_note: all notebooks will be transferred to python modules with tests when complete. _"
   ]
  },
  {
   "cell_type": "markdown",
   "metadata": {},
   "source": [
    "### Linked Lists"
   ]
  },
  {
   "cell_type": "code",
   "execution_count": 8,
   "metadata": {
    "collapsed": true
   },
   "outputs": [],
   "source": [
    "# [data][]-> [data][]-> [data][]\n",
    "# Implementation for problems:\n",
    "\n",
    "class Node():\n",
    "    def __init__(self, data):\n",
    "        self.next = None\n",
    "        self.data = data\n",
    "    \n",
    "    def append_tail(self, d):\n",
    "        end = Node(d)\n",
    "        n = self\n",
    "        while n.next is not None:\n",
    "            n = n.next\n",
    "        n.next = end\n",
    "        \n",
    "    def draw(self):\n",
    "        res = []\n",
    "        n = self\n",
    "        res.append(n.data)\n",
    "        while n.next is not None:\n",
    "            res.append(n.next.data)\n",
    "            n = n.next\n",
    "        print(res)"
   ]
  },
  {
   "cell_type": "markdown",
   "metadata": {},
   "source": [
    "#### Questions"
   ]
  },
  {
   "cell_type": "markdown",
   "metadata": {},
   "source": [
    "__2.1: Remove Dups__\n",
    "\n",
    "Write code to remove duplicates from an unsorted linked list\n",
    "\n",
    "How would you solve if no temporary buffer could be used?"
   ]
  },
  {
   "cell_type": "code",
   "execution_count": 9,
   "metadata": {
    "collapsed": true
   },
   "outputs": [],
   "source": [
    "# my approach will be to create a new linked list using an array to store the data\n",
    "# from each node in the original ll. if the store already contains the corresponding \n",
    "# node data during iteration, it will be omitted from the new list.\n",
    "\n",
    "def remove_dups(node):\n",
    "    stored = []\n",
    "    node_prime = Node(node.data)\n",
    "    n = node\n",
    "    while n.next is not None:\n",
    "        if n.next.data not in stored:\n",
    "            stored.append(n.next.data)\n",
    "        n = n.next\n",
    "    \n",
    "    for val in stored:\n",
    "        node_prime.append_tail(val)\n",
    "    return node_prime"
   ]
  },
  {
   "cell_type": "code",
   "execution_count": 10,
   "metadata": {},
   "outputs": [
    {
     "name": "stdout",
     "output_type": "stream",
     "text": [
      "[0]\n"
     ]
    }
   ],
   "source": [
    "n1 = Node(0)\n",
    "n1.draw()"
   ]
  },
  {
   "cell_type": "code",
   "execution_count": 11,
   "metadata": {
    "collapsed": true
   },
   "outputs": [],
   "source": [
    "n1.append_tail(2)\n",
    "n1.append_tail(2)\n",
    "n1.append_tail(5)"
   ]
  },
  {
   "cell_type": "code",
   "execution_count": 12,
   "metadata": {},
   "outputs": [
    {
     "name": "stdout",
     "output_type": "stream",
     "text": [
      "[0, 2, 2, 5]\n"
     ]
    }
   ],
   "source": [
    "n1.draw()"
   ]
  },
  {
   "cell_type": "code",
   "execution_count": 13,
   "metadata": {},
   "outputs": [],
   "source": [
    "n1_no_dups = remove_dups(n1)"
   ]
  },
  {
   "cell_type": "code",
   "execution_count": 14,
   "metadata": {},
   "outputs": [
    {
     "name": "stdout",
     "output_type": "stream",
     "text": [
      "[0, 2, 5]\n"
     ]
    }
   ],
   "source": [
    "n1_no_dups.draw()"
   ]
  }
 ],
 "metadata": {
  "kernelspec": {
   "display_name": "Python 3",
   "language": "python",
   "name": "python3"
  },
  "language_info": {
   "codemirror_mode": {
    "name": "ipython",
    "version": 3
   },
   "file_extension": ".py",
   "mimetype": "text/x-python",
   "name": "python",
   "nbconvert_exporter": "python",
   "pygments_lexer": "ipython3",
   "version": "3.6.3"
  }
 },
 "nbformat": 4,
 "nbformat_minor": 2
}
